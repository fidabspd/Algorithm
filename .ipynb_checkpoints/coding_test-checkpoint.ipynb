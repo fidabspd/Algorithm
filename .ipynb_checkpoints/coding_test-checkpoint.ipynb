{
 "cells": [
  {
   "cell_type": "markdown",
   "metadata": {},
   "source": [
    "# 2번"
   ]
  },
  {
   "cell_type": "code",
   "execution_count": 20,
   "metadata": {},
   "outputs": [
    {
     "name": "stdout",
     "output_type": "stream",
     "text": [
      "76\n"
     ]
    }
   ],
   "source": [
    "s1 = [4,99,2,6,7,13,88,76]; s2 = [6,88,13,4,99,2,7]  # 76\n",
    "\n",
    "def solution(s1, s2):\n",
    "    import heapq\n",
    "    heapq.heapify(s1); heapq.heapify(s2)\n",
    "\n",
    "    while s2:\n",
    "        a = heapq.heappop(s1); b = heapq.heappop(s2)\n",
    "        if a != b:\n",
    "            return a\n",
    "            break\n",
    "    else:\n",
    "        return s1[-1]\n",
    "    \n",
    "print(solution(s1, s2))"
   ]
  },
  {
   "cell_type": "code",
   "execution_count": 21,
   "metadata": {},
   "outputs": [
    {
     "name": "stdout",
     "output_type": "stream",
     "text": [
      "100\n"
     ]
    }
   ],
   "source": [
    "s1 = [6,88,13,4,99,2,7, 100]; s2 = [6,88,13,4,99,2,7]  # 76\n",
    "print(solution(s1, s2))"
   ]
  },
  {
   "cell_type": "markdown",
   "metadata": {},
   "source": [
    "# 3번"
   ]
  },
  {
   "cell_type": "code",
   "execution_count": 76,
   "metadata": {},
   "outputs": [
    {
     "name": "stdout",
     "output_type": "stream",
     "text": [
      "True\n",
      "False\n",
      "False\n"
     ]
    }
   ],
   "source": [
    "s11 = 'cookie'; s21 = 'cooookieee'  # true\n",
    "s12 = 'cookie'; s22 = 'cokie'  # false\n",
    "s13 = 'cookie'; s23 = 'cookoie'  # false\n",
    "\n",
    "def spl(s):\n",
    "    s = list(s)\n",
    "    for i in range(len(s)-1):\n",
    "        if s[i] != s[i+1]:\n",
    "            s[i] += ' '\n",
    "\n",
    "    return (''.join(s)).split()\n",
    "\n",
    "def solution(s1, s2):\n",
    "    s1 = spl(s1); s2 = spl(s2)\n",
    "    \n",
    "    if len(s1) != len(s2):\n",
    "        return False\n",
    "    \n",
    "    for i in range(len(s1)):\n",
    "        if len(s1[i]) > len(s2[i]):\n",
    "            return False\n",
    "        \n",
    "    return True\n",
    "    \n",
    "print(solution(s11, s21))\n",
    "print(solution(s12, s22))\n",
    "print(solution(s13, s23))"
   ]
  },
  {
   "cell_type": "code",
   "execution_count": 78,
   "metadata": {},
   "outputs": [
    {
     "name": "stdout",
     "output_type": "stream",
     "text": [
      "True\n",
      "False\n",
      "False\n"
     ]
    }
   ],
   "source": [
    "s11 = 'cookie'; s21 = 'cooookieee'  # true\n",
    "s12 = 'cookie'; s22 = 'cokie'  # false\n",
    "s13 = 'cookie'; s23 = 'cookoie'  # false\n",
    "\n",
    "def spl(s):\n",
    "    s = list(s)\n",
    "    for i in range(len(s)-1):\n",
    "        if s[i] != s[i+1]:\n",
    "            s[i] += ' '\n",
    "\n",
    "    return (''.join(s)).split()\n",
    "\n",
    "def solution(s1, s2):\n",
    "    s1 = spl(s1); s2 = spl(s2)\n",
    "    \n",
    "    if len(s1) != len(s2):\n",
    "        return False\n",
    "    \n",
    "    for i in range(len(s1)):\n",
    "        if len(s1[i]) > len(s2[i]) or s1[i][0] != s2[i][0]:\n",
    "            return False\n",
    "        \n",
    "    return True\n",
    "    \n",
    "print(solution(s11, s21))\n",
    "print(solution(s12, s22))\n",
    "print(solution(s13, s23))"
   ]
  },
  {
   "cell_type": "code",
   "execution_count": 72,
   "metadata": {},
   "outputs": [
    {
     "name": "stdout",
     "output_type": "stream",
     "text": [
      "['c', 'oo', 'k', 'i', 'e']\n",
      "['c', 'oooo', 'k', 'i', 'eee']\n",
      "['c', 'oo', 'k', 'i', 'e']\n",
      "['c', 'o', 'k', 'i', 'e']\n",
      "['c', 'oo', 'k', 'i', 'e']\n",
      "['c', 'oo', 'k', 'o', 'i', 'e']\n"
     ]
    }
   ],
   "source": [
    "print(spl(s11))\n",
    "print(spl(s21))\n",
    "print(spl(s12))\n",
    "print(spl(s22))\n",
    "print(spl(s13))\n",
    "print(spl(s23))"
   ]
  },
  {
   "cell_type": "code",
   "execution_count": 62,
   "metadata": {},
   "outputs": [
    {
     "data": {
      "text/plain": [
       "[{'c'}, {'o'}, {'k'}, {'o'}, {'i'}, {'e'}]"
      ]
     },
     "execution_count": 62,
     "metadata": {},
     "output_type": "execute_result"
    }
   ],
   "source": [
    "t"
   ]
  },
  {
   "cell_type": "code",
   "execution_count": 58,
   "metadata": {},
   "outputs": [
    {
     "data": {
      "text/plain": [
       "[{'c'}, {'o'}, {'k'}, {'o'}, {'i'}, {'e'}]"
      ]
     },
     "execution_count": 58,
     "metadata": {},
     "output_type": "execute_result"
    }
   ],
   "source": [
    "list(map(set, t.split()))"
   ]
  },
  {
   "cell_type": "code",
   "execution_count": null,
   "metadata": {},
   "outputs": [],
   "source": []
  }
 ],
 "metadata": {
  "kernelspec": {
   "display_name": "Python 3",
   "language": "python",
   "name": "python3"
  },
  "language_info": {
   "codemirror_mode": {
    "name": "ipython",
    "version": 3
   },
   "file_extension": ".py",
   "mimetype": "text/x-python",
   "name": "python",
   "nbconvert_exporter": "python",
   "pygments_lexer": "ipython3",
   "version": "3.8.3"
  }
 },
 "nbformat": 4,
 "nbformat_minor": 4
}
