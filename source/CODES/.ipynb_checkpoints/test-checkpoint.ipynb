{
 "cells": [
  {
   "cell_type": "code",
   "execution_count": 3,
   "metadata": {},
   "outputs": [
    {
     "name": "stdout",
     "output_type": "stream",
     "text": [
      "now: 0, tmp: 1\n",
      "answer: 0\n",
      "[1, 0, 0, 0]\n",
      "[0, 1, 0, 1]\n",
      "[0, 0, 1, 0]\n",
      "[0, 1, 0, 1]\n",
      "\n",
      "now: 1, tmp: 2\n",
      "answer: 0\n",
      "[1, 0, 0]\n",
      "[0, 1, 0]\n",
      "[0, 0, 1]\n",
      "\n",
      "now: 2, tmp: 0\n",
      "answer: 1\n",
      "[1, 0]\n",
      "[0, 1]\n",
      "\n",
      "now: 0, tmp: 0\n",
      "answer: 2\n",
      "[1]\n",
      "\n",
      "now: 0, tmp: 0\n",
      "answer: 3\n",
      "\n",
      "3\n"
     ]
    }
   ],
   "source": [
    "n1 = 3; computers1 = [[1, 1, 0], [1, 1, 0], [0, 0, 1]]  # 2\n",
    "n2 = 3; computers2 = [[1, 1, 0], [1, 1, 1], [0, 1, 1]]  # 1\n",
    "n3 = 5; computers3 = [[1, 0, 1, 0, 0], [0, 1, 1 ,0, 0], [1, 1, 1, 0, 0], [0, 0, 0, 1, 1], [0, 0, 0, 1, 1]]  # 2\n",
    "n4 = 5; computers4 = [[1, 0, 1, 0, 0], [0, 1, 0, 0, 0], [1, 0, 1, 0, 1], [0, 0, 0, 1, 0], [0, 0, 1, 0, 1]]  # 3\n",
    "n4 = 3; computers5 = [[1,1,0], [1,1,1], [0,1,1]]  # 1\n",
    "\n",
    "def solution(n, computers):\n",
    "\n",
    "    answer = 0\n",
    "    now = 0\n",
    "\n",
    "    while computers:  # computer가 빌때까지\n",
    "        for com in computers:\n",
    "            com.pop(now)  # now의 col을 다 지움\n",
    "            \n",
    "        try:\n",
    "            tmp = computers[now].index(1)  # tmp = 다음번 now\n",
    "        except:  # now의 row에 1이 없으면 (더이상 이어지는 컴퓨터가 없으면)\n",
    "            answer += 1  # 네트워크 += 1\n",
    "            tmp = 0  # 다음번 now가 될 tmp 초기화\n",
    "        computers.pop(now)  # tmp를 빼내고 나서 now의 row pop\n",
    "        \n",
    "        \n",
    "        \n",
    "        print(f'now: {now}, tmp: {tmp}')\n",
    "        print(f'answer: {answer}')\n",
    "        for com in computers:\n",
    "            print(com)\n",
    "        print('\\n', end = '')\n",
    "        \n",
    "        \n",
    "        \n",
    "        now = tmp  # now 업데이트\n",
    "        \n",
    "    return answer\n",
    "\n",
    "# print(solution(n1, computers1))\n",
    "# print(solution(n2, computers2))\n",
    "# print(solution(n3, computers3))\n",
    "print(solution(n4, computers4))"
   ]
  },
  {
   "cell_type": "code",
   "execution_count": null,
   "metadata": {},
   "outputs": [],
   "source": []
  }
 ],
 "metadata": {
  "kernelspec": {
   "display_name": "Python 3",
   "language": "python",
   "name": "python3"
  },
  "language_info": {
   "codemirror_mode": {
    "name": "ipython",
    "version": 3
   },
   "file_extension": ".py",
   "mimetype": "text/x-python",
   "name": "python",
   "nbconvert_exporter": "python",
   "pygments_lexer": "ipython3",
   "version": "3.8.3"
  }
 },
 "nbformat": 4,
 "nbformat_minor": 4
}
