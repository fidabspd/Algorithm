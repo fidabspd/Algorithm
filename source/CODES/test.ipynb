{
 "cells": [
  {
   "cell_type": "code",
   "execution_count": 21,
   "metadata": {},
   "outputs": [
    {
     "name": "stdout",
     "output_type": "stream",
     "text": [
      "4\n",
      "0\n"
     ]
    }
   ],
   "source": [
    "begin1 = 'hit'; target1 = 'cog'; words1 = ['hot', 'dot', 'dog', 'lot', 'log', 'cog']  # 4\n",
    "begin2 = 'hit'; target2 = 'cog'; words2 = ['hot', 'dot', 'dog', 'lot', 'log']  # 0\n",
    "\n",
    "def solution(begin, target, words):\n",
    "    \n",
    "    if target not in words:\n",
    "        return 0\n",
    "\n",
    "    answer = 0\n",
    "    now_list = [begin]\n",
    "\n",
    "    while words:\n",
    "        next_list = []\n",
    "        for now in now_list:\n",
    "            for word in words:\n",
    "                diff = 0\n",
    "                for a, b in zip(now, word):\n",
    "                    if a != b:\n",
    "                        diff += 1\n",
    "                if diff == 1:\n",
    "                    next_list.append(word)\n",
    "\n",
    "        answer += 1\n",
    "        if target in next_list:\n",
    "            return answer\n",
    "\n",
    "        now_list = next_list\n",
    "\n",
    "        for next in next_list:\n",
    "            words.remove(next)\n",
    "            \n",
    "print(solution(begin1, target1, words1))\n",
    "print(solution(begin2, target2, words2))"
   ]
  },
  {
   "cell_type": "code",
   "execution_count": 13,
   "metadata": {},
   "outputs": [
    {
     "name": "stdout",
     "output_type": "stream",
     "text": [
      "tmp: [['ICN', 'JFK']], tickets: [['HND', 'IAD'], ['JFK', 'HND']]\n",
      "tmp: [['ICN', 'JFK'], ['JFK', 'HND']], tickets: [['HND', 'IAD']]\n",
      "tmp: [['ICN', 'JFK'], ['JFK', 'HND'], ['HND', 'IAD']], tickets: []\n",
      "['ICN', 'JFK', 'HND', 'IAD']\n",
      "tmp: [['ICN', 'SFO']], tickets: [['ICN', 'ATL'], ['SFO', 'ATL'], ['ATL', 'ICN'], ['ATL', 'SFO']]\n",
      "tmp: [['ICN', 'SFO'], ['SFO', 'ATL']], tickets: [['ICN', 'ATL'], ['ATL', 'ICN'], ['ATL', 'SFO']]\n",
      "tmp: [['ICN', 'SFO'], ['SFO', 'ATL'], ['ATL', 'ICN']], tickets: [['ICN', 'ATL'], ['ATL', 'SFO']]\n",
      "tmp: [['ICN', 'SFO'], ['SFO', 'ATL'], ['ATL', 'ICN'], ['ICN', 'ATL']], tickets: [['ATL', 'SFO']]\n",
      "tmp: [['ICN', 'SFO'], ['SFO', 'ATL'], ['ATL', 'ICN'], ['ICN', 'ATL'], ['ATL', 'SFO']], tickets: []\n",
      "['ICN', 'SFO', 'ATL', 'ICN', 'ATL', 'SFO']\n",
      "tmp: [['ICN', 'SFO']], tickets: [['ATL', 'SFO'], ['ATL', 'SDF'], ['SFO', 'ATL'], ['ATL', 'ICN']]\n",
      "tmp: [['ICN', 'SFO'], ['SFO', 'ATL']], tickets: [['ATL', 'SFO'], ['ATL', 'SDF'], ['ATL', 'ICN']]\n",
      "tmp: [['ICN', 'SFO'], ['SFO', 'ATL'], ['ATL', 'SFO']], tickets: [['ATL', 'SDF'], ['ATL', 'ICN']]\n",
      "tmp: [['ICN', 'SFO'], ['SFO', 'ATL']], tickets: [['ATL', 'SDF'], ['ATL', 'ICN'], ['ATL', 'SFO']]\n",
      "tmp: [['ICN', 'SFO'], ['SFO', 'ATL'], ['ATL', 'SDF']], tickets: [['ATL', 'ICN'], ['ATL', 'SFO']]\n"
     ]
    },
    {
     "ename": "IndexError",
     "evalue": "pop from empty list",
     "output_type": "error",
     "traceback": [
      "\u001b[1;31m---------------------------------------------------------------------------\u001b[0m",
      "\u001b[1;31mIndexError\u001b[0m                                Traceback (most recent call last)",
      "\u001b[1;32m<ipython-input-13-4a2e80583d05>\u001b[0m in \u001b[0;36m<module>\u001b[1;34m\u001b[0m\n\u001b[0;32m     23\u001b[0m \u001b[0mprint\u001b[0m\u001b[1;33m(\u001b[0m\u001b[0msolution\u001b[0m\u001b[1;33m(\u001b[0m\u001b[0mtickets1\u001b[0m\u001b[1;33m)\u001b[0m\u001b[1;33m)\u001b[0m\u001b[1;33m\u001b[0m\u001b[1;33m\u001b[0m\u001b[0m\n\u001b[0;32m     24\u001b[0m \u001b[0mprint\u001b[0m\u001b[1;33m(\u001b[0m\u001b[0msolution\u001b[0m\u001b[1;33m(\u001b[0m\u001b[0mtickets2\u001b[0m\u001b[1;33m)\u001b[0m\u001b[1;33m)\u001b[0m\u001b[1;33m\u001b[0m\u001b[1;33m\u001b[0m\u001b[0m\n\u001b[1;32m---> 25\u001b[1;33m \u001b[0mprint\u001b[0m\u001b[1;33m(\u001b[0m\u001b[0msolution\u001b[0m\u001b[1;33m(\u001b[0m\u001b[0mtickets3\u001b[0m\u001b[1;33m)\u001b[0m\u001b[1;33m)\u001b[0m\u001b[1;33m\u001b[0m\u001b[1;33m\u001b[0m\u001b[0m\n\u001b[0m",
      "\u001b[1;32m<ipython-input-13-4a2e80583d05>\u001b[0m in \u001b[0;36msolution\u001b[1;34m(tickets)\u001b[0m\n\u001b[0;32m     12\u001b[0m         \u001b[1;32mfor\u001b[0m \u001b[0mticket\u001b[0m \u001b[1;32min\u001b[0m \u001b[0mtickets\u001b[0m\u001b[1;33m:\u001b[0m\u001b[1;33m\u001b[0m\u001b[1;33m\u001b[0m\u001b[0m\n\u001b[0;32m     13\u001b[0m             \u001b[1;32mwhile\u001b[0m \u001b[0mnow\u001b[0m \u001b[1;32mnot\u001b[0m \u001b[1;32min\u001b[0m \u001b[1;33m[\u001b[0m\u001b[0mticket\u001b[0m\u001b[1;33m[\u001b[0m\u001b[1;36m0\u001b[0m\u001b[1;33m]\u001b[0m \u001b[1;32mfor\u001b[0m \u001b[0mticket\u001b[0m \u001b[1;32min\u001b[0m \u001b[0mtickets\u001b[0m\u001b[1;33m]\u001b[0m\u001b[1;33m:\u001b[0m\u001b[1;33m\u001b[0m\u001b[1;33m\u001b[0m\u001b[0m\n\u001b[1;32m---> 14\u001b[1;33m                 \u001b[0mtickets\u001b[0m\u001b[1;33m.\u001b[0m\u001b[0mappend\u001b[0m\u001b[1;33m(\u001b[0m\u001b[0mtmp\u001b[0m\u001b[1;33m.\u001b[0m\u001b[0mpop\u001b[0m\u001b[1;33m(\u001b[0m\u001b[1;33m)\u001b[0m\u001b[1;33m)\u001b[0m\u001b[1;33m\u001b[0m\u001b[1;33m\u001b[0m\u001b[0m\n\u001b[0m\u001b[0;32m     15\u001b[0m             \u001b[1;32mif\u001b[0m \u001b[0mticket\u001b[0m\u001b[1;33m[\u001b[0m\u001b[1;36m0\u001b[0m\u001b[1;33m]\u001b[0m \u001b[1;33m==\u001b[0m \u001b[0mnow\u001b[0m\u001b[1;33m:\u001b[0m\u001b[1;33m\u001b[0m\u001b[1;33m\u001b[0m\u001b[0m\n\u001b[0;32m     16\u001b[0m                 \u001b[0mtmp\u001b[0m\u001b[1;33m.\u001b[0m\u001b[0mappend\u001b[0m\u001b[1;33m(\u001b[0m\u001b[0mtickets\u001b[0m\u001b[1;33m.\u001b[0m\u001b[0mpop\u001b[0m\u001b[1;33m(\u001b[0m\u001b[0mtickets\u001b[0m\u001b[1;33m.\u001b[0m\u001b[0mindex\u001b[0m\u001b[1;33m(\u001b[0m\u001b[0mticket\u001b[0m\u001b[1;33m)\u001b[0m\u001b[1;33m)\u001b[0m\u001b[1;33m)\u001b[0m\u001b[1;33m\u001b[0m\u001b[1;33m\u001b[0m\u001b[0m\n",
      "\u001b[1;31mIndexError\u001b[0m: pop from empty list"
     ]
    }
   ],
   "source": [
    "tickets1 = [['ICN', 'JFK'], ['HND', 'IAD'], ['JFK', 'HND']]  # [ICN, JFK, HND, IAD]\n",
    "tickets2 = [['ICN', 'SFO'], ['ICN', 'ATL'], ['SFO', 'ATL'], ['ATL', 'ICN'], ['ATL', 'SFO']]  # [ICN, ATL, ICN, SFO, ATL, SFO]\n",
    "tickets3 = [['ICN', 'SFO'], ['ATL', 'SFO'], ['ATL', 'SDF'], ['SFO', 'ATL'], ['ATL', 'ICN']] \n",
    "\n",
    "def solution(tickets):\n",
    "    \n",
    "#     tickets.sort()\n",
    "    now = 'ICN'\n",
    "    tmp = []\n",
    "\n",
    "    while tickets:\n",
    "        for ticket in tickets:\n",
    "            while now not in [ticket[0] for ticket in tickets]:\n",
    "                tickets.append(tmp.pop())\n",
    "            if ticket[0] == now:\n",
    "                tmp.append(tickets.pop(tickets.index(ticket)))\n",
    "                now = ticket[1]\n",
    "                break\n",
    "        print(f'tmp: {tmp}, tickets: {tickets}')\n",
    "\n",
    "    return [t[0] for t in tmp] + [tmp[-1][1]]\n",
    "\n",
    "print(solution(tickets1))\n",
    "print(solution(tickets2))\n",
    "print(solution(tickets3))"
   ]
  },
  {
   "cell_type": "code",
   "execution_count": 2,
   "metadata": {},
   "outputs": [
    {
     "data": {
      "text/plain": [
       "['ICN', 'ICN', 'SFO', 'ATL', 'ATL']"
      ]
     },
     "execution_count": 2,
     "metadata": {},
     "output_type": "execute_result"
    }
   ],
   "source": [
    "tickets1 = [['ICN', 'JFK'], ['HND', 'IAD'], ['JFK', 'HND']]  # [ICN, JFK, HND, IAD]\n",
    "tickets2 = [['ICN', 'SFO'], ['ICN', 'ATL'], ['SFO', 'ATL'], ['ATL', 'ICN'], ['ATL','SFO']]  # [ICN, ATL, ICN, SFO, ATL, SFO]\n",
    "\n",
    "tickets = tickets2\n",
    "\n",
    "[ticket[0] for ticket in tickets]"
   ]
  },
  {
   "cell_type": "code",
   "execution_count": 36,
   "metadata": {},
   "outputs": [
    {
     "data": {
      "text/plain": [
       "6"
      ]
     },
     "execution_count": 36,
     "metadata": {},
     "output_type": "execute_result"
    }
   ],
   "source": [
    "a = [1, 2, 3, 4, 5]\n",
    "(lambda x: x + 1)(5)"
   ]
  },
  {
   "cell_type": "code",
   "execution_count": null,
   "metadata": {},
   "outputs": [],
   "source": []
  },
  {
   "cell_type": "code",
   "execution_count": null,
   "metadata": {},
   "outputs": [],
   "source": []
  },
  {
   "cell_type": "code",
   "execution_count": null,
   "metadata": {},
   "outputs": [],
   "source": []
  },
  {
   "cell_type": "code",
   "execution_count": null,
   "metadata": {},
   "outputs": [],
   "source": []
  },
  {
   "cell_type": "code",
   "execution_count": null,
   "metadata": {},
   "outputs": [],
   "source": []
  },
  {
   "cell_type": "code",
   "execution_count": null,
   "metadata": {},
   "outputs": [],
   "source": []
  },
  {
   "cell_type": "code",
   "execution_count": null,
   "metadata": {},
   "outputs": [],
   "source": []
  },
  {
   "cell_type": "code",
   "execution_count": null,
   "metadata": {},
   "outputs": [],
   "source": []
  },
  {
   "cell_type": "code",
   "execution_count": null,
   "metadata": {},
   "outputs": [],
   "source": []
  },
  {
   "cell_type": "code",
   "execution_count": null,
   "metadata": {},
   "outputs": [],
   "source": []
  },
  {
   "cell_type": "code",
   "execution_count": null,
   "metadata": {},
   "outputs": [],
   "source": []
  },
  {
   "cell_type": "code",
   "execution_count": null,
   "metadata": {},
   "outputs": [],
   "source": []
  }
 ],
 "metadata": {
  "kernelspec": {
   "display_name": "Python 3",
   "language": "python",
   "name": "python3"
  }
 },
 "nbformat": 4,
 "nbformat_minor": 4
}
