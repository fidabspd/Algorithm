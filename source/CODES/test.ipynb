{
 "cells": [
  {
   "cell_type": "code",
   "execution_count": 21,
   "metadata": {},
   "outputs": [
    {
     "name": "stdout",
     "output_type": "stream",
     "text": [
      "4\n",
      "0\n"
     ]
    }
   ],
   "source": [
    "begin1 = 'hit'; target1 = 'cog'; words1 = ['hot', 'dot', 'dog', 'lot', 'log', 'cog']  # 4\n",
    "begin2 = 'hit'; target2 = 'cog'; words2 = ['hot', 'dot', 'dog', 'lot', 'log']  # 0\n",
    "\n",
    "def solution(begin, target, words):\n",
    "    \n",
    "    if target not in words:\n",
    "        return 0\n",
    "\n",
    "    answer = 0\n",
    "    now_list = [begin]\n",
    "\n",
    "    while words:\n",
    "        next_list = []\n",
    "        for now in now_list:\n",
    "            for word in words:\n",
    "                diff = 0\n",
    "                for a, b in zip(now, word):\n",
    "                    if a != b:\n",
    "                        diff += 1\n",
    "                if diff == 1:\n",
    "                    next_list.append(word)\n",
    "\n",
    "        answer += 1\n",
    "        if target in next_list:\n",
    "            return answer\n",
    "\n",
    "        now_list = next_list\n",
    "\n",
    "        for next in next_list:\n",
    "            words.remove(next)\n",
    "            \n",
    "print(solution(begin1, target1, words1))\n",
    "print(solution(begin2, target2, words2))"
   ]
  },
  {
   "cell_type": "code",
   "execution_count": 13,
   "metadata": {},
   "outputs": [
    {
     "name": "stdout",
     "output_type": "stream",
     "text": [
      "tmp: [['ICN', 'JFK']], tickets: [['HND', 'IAD'], ['JFK', 'HND']]\n",
      "tmp: [['ICN', 'JFK'], ['JFK', 'HND']], tickets: [['HND', 'IAD']]\n",
      "tmp: [['ICN', 'JFK'], ['JFK', 'HND'], ['HND', 'IAD']], tickets: []\n",
      "['ICN', 'JFK', 'HND', 'IAD']\n",
      "tmp: [['ICN', 'SFO']], tickets: [['ICN', 'ATL'], ['SFO', 'ATL'], ['ATL', 'ICN'], ['ATL', 'SFO']]\n",
      "tmp: [['ICN', 'SFO'], ['SFO', 'ATL']], tickets: [['ICN', 'ATL'], ['ATL', 'ICN'], ['ATL', 'SFO']]\n",
      "tmp: [['ICN', 'SFO'], ['SFO', 'ATL'], ['ATL', 'ICN']], tickets: [['ICN', 'ATL'], ['ATL', 'SFO']]\n",
      "tmp: [['ICN', 'SFO'], ['SFO', 'ATL'], ['ATL', 'ICN'], ['ICN', 'ATL']], tickets: [['ATL', 'SFO']]\n",
      "tmp: [['ICN', 'SFO'], ['SFO', 'ATL'], ['ATL', 'ICN'], ['ICN', 'ATL'], ['ATL', 'SFO']], tickets: []\n",
      "['ICN', 'SFO', 'ATL', 'ICN', 'ATL', 'SFO']\n",
      "tmp: [['ICN', 'SFO']], tickets: [['ATL', 'SFO'], ['ATL', 'SDF'], ['SFO', 'ATL'], ['ATL', 'ICN']]\n",
      "tmp: [['ICN', 'SFO'], ['SFO', 'ATL']], tickets: [['ATL', 'SFO'], ['ATL', 'SDF'], ['ATL', 'ICN']]\n",
      "tmp: [['ICN', 'SFO'], ['SFO', 'ATL'], ['ATL', 'SFO']], tickets: [['ATL', 'SDF'], ['ATL', 'ICN']]\n",
      "tmp: [['ICN', 'SFO'], ['SFO', 'ATL']], tickets: [['ATL', 'SDF'], ['ATL', 'ICN'], ['ATL', 'SFO']]\n",
      "tmp: [['ICN', 'SFO'], ['SFO', 'ATL'], ['ATL', 'SDF']], tickets: [['ATL', 'ICN'], ['ATL', 'SFO']]\n"
     ]
    },
    {
     "ename": "IndexError",
     "evalue": "pop from empty list",
     "output_type": "error",
     "traceback": [
      "\u001b[1;31m---------------------------------------------------------------------------\u001b[0m",
      "\u001b[1;31mIndexError\u001b[0m                                Traceback (most recent call last)",
      "\u001b[1;32m<ipython-input-13-4a2e80583d05>\u001b[0m in \u001b[0;36m<module>\u001b[1;34m\u001b[0m\n\u001b[0;32m     23\u001b[0m \u001b[0mprint\u001b[0m\u001b[1;33m(\u001b[0m\u001b[0msolution\u001b[0m\u001b[1;33m(\u001b[0m\u001b[0mtickets1\u001b[0m\u001b[1;33m)\u001b[0m\u001b[1;33m)\u001b[0m\u001b[1;33m\u001b[0m\u001b[1;33m\u001b[0m\u001b[0m\n\u001b[0;32m     24\u001b[0m \u001b[0mprint\u001b[0m\u001b[1;33m(\u001b[0m\u001b[0msolution\u001b[0m\u001b[1;33m(\u001b[0m\u001b[0mtickets2\u001b[0m\u001b[1;33m)\u001b[0m\u001b[1;33m)\u001b[0m\u001b[1;33m\u001b[0m\u001b[1;33m\u001b[0m\u001b[0m\n\u001b[1;32m---> 25\u001b[1;33m \u001b[0mprint\u001b[0m\u001b[1;33m(\u001b[0m\u001b[0msolution\u001b[0m\u001b[1;33m(\u001b[0m\u001b[0mtickets3\u001b[0m\u001b[1;33m)\u001b[0m\u001b[1;33m)\u001b[0m\u001b[1;33m\u001b[0m\u001b[1;33m\u001b[0m\u001b[0m\n\u001b[0m",
      "\u001b[1;32m<ipython-input-13-4a2e80583d05>\u001b[0m in \u001b[0;36msolution\u001b[1;34m(tickets)\u001b[0m\n\u001b[0;32m     12\u001b[0m         \u001b[1;32mfor\u001b[0m \u001b[0mticket\u001b[0m \u001b[1;32min\u001b[0m \u001b[0mtickets\u001b[0m\u001b[1;33m:\u001b[0m\u001b[1;33m\u001b[0m\u001b[1;33m\u001b[0m\u001b[0m\n\u001b[0;32m     13\u001b[0m             \u001b[1;32mwhile\u001b[0m \u001b[0mnow\u001b[0m \u001b[1;32mnot\u001b[0m \u001b[1;32min\u001b[0m \u001b[1;33m[\u001b[0m\u001b[0mticket\u001b[0m\u001b[1;33m[\u001b[0m\u001b[1;36m0\u001b[0m\u001b[1;33m]\u001b[0m \u001b[1;32mfor\u001b[0m \u001b[0mticket\u001b[0m \u001b[1;32min\u001b[0m \u001b[0mtickets\u001b[0m\u001b[1;33m]\u001b[0m\u001b[1;33m:\u001b[0m\u001b[1;33m\u001b[0m\u001b[1;33m\u001b[0m\u001b[0m\n\u001b[1;32m---> 14\u001b[1;33m                 \u001b[0mtickets\u001b[0m\u001b[1;33m.\u001b[0m\u001b[0mappend\u001b[0m\u001b[1;33m(\u001b[0m\u001b[0mtmp\u001b[0m\u001b[1;33m.\u001b[0m\u001b[0mpop\u001b[0m\u001b[1;33m(\u001b[0m\u001b[1;33m)\u001b[0m\u001b[1;33m)\u001b[0m\u001b[1;33m\u001b[0m\u001b[1;33m\u001b[0m\u001b[0m\n\u001b[0m\u001b[0;32m     15\u001b[0m             \u001b[1;32mif\u001b[0m \u001b[0mticket\u001b[0m\u001b[1;33m[\u001b[0m\u001b[1;36m0\u001b[0m\u001b[1;33m]\u001b[0m \u001b[1;33m==\u001b[0m \u001b[0mnow\u001b[0m\u001b[1;33m:\u001b[0m\u001b[1;33m\u001b[0m\u001b[1;33m\u001b[0m\u001b[0m\n\u001b[0;32m     16\u001b[0m                 \u001b[0mtmp\u001b[0m\u001b[1;33m.\u001b[0m\u001b[0mappend\u001b[0m\u001b[1;33m(\u001b[0m\u001b[0mtickets\u001b[0m\u001b[1;33m.\u001b[0m\u001b[0mpop\u001b[0m\u001b[1;33m(\u001b[0m\u001b[0mtickets\u001b[0m\u001b[1;33m.\u001b[0m\u001b[0mindex\u001b[0m\u001b[1;33m(\u001b[0m\u001b[0mticket\u001b[0m\u001b[1;33m)\u001b[0m\u001b[1;33m)\u001b[0m\u001b[1;33m)\u001b[0m\u001b[1;33m\u001b[0m\u001b[1;33m\u001b[0m\u001b[0m\n",
      "\u001b[1;31mIndexError\u001b[0m: pop from empty list"
     ]
    }
   ],
   "source": [
    "tickets1 = [['ICN', 'JFK'], ['HND', 'IAD'], ['JFK', 'HND']]  # [ICN, JFK, HND, IAD]\n",
    "tickets2 = [['ICN', 'SFO'], ['ICN', 'ATL'], ['SFO', 'ATL'], ['ATL', 'ICN'], ['ATL', 'SFO']]  # [ICN, ATL, ICN, SFO, ATL, SFO]\n",
    "\n",
    "def solution(tickets):\n",
    "    \n",
    "    tickets.sort()\n",
    "    now = 'ICN'\n",
    "    tmp = []\n",
    "\n",
    "    while tickets:\n",
    "        for ticket in tickets:\n",
    "            while now not in [ticket[0] for ticket in tickets]:\n",
    "                tickets.append(tmp.pop())\n",
    "            if ticket[0] == now:\n",
    "                tmp.append(tickets.pop(tickets.index(ticket)))\n",
    "                now = ticket[1]\n",
    "                break\n",
    "        print(f'tmp: {tmp}, tickets: {tickets}')\n",
    "\n",
    "    return [t[0] for t in tmp] + [tmp[-1][1]]\n",
    "\n",
    "print(solution(tickets1))\n",
    "print(solution(tickets2))"
   ]
  },
  {
   "cell_type": "code",
   "execution_count": 2,
   "metadata": {},
   "outputs": [
    {
     "data": {
      "text/plain": [
       "['ICN', 'ICN', 'SFO', 'ATL', 'ATL']"
      ]
     },
     "execution_count": 2,
     "metadata": {},
     "output_type": "execute_result"
    }
   ],
   "source": [
    "tickets1 = [['ICN', 'JFK'], ['HND', 'IAD'], ['JFK', 'HND']]  # [ICN, JFK, HND, IAD]\n",
    "tickets2 = [['ICN', 'SFO'], ['ICN', 'ATL'], ['SFO', 'ATL'], ['ATL', 'ICN'], ['ATL','SFO']]  # [ICN, ATL, ICN, SFO, ATL, SFO]\n",
    "\n",
    "tickets = tickets2\n",
    "\n",
    "[ticket[0] for ticket in tickets]"
   ]
  },
  {
   "cell_type": "code",
   "execution_count": 36,
   "metadata": {},
   "outputs": [
    {
     "data": {
      "text/plain": [
       "6"
      ]
     },
     "execution_count": 36,
     "metadata": {},
     "output_type": "execute_result"
    }
   ],
   "source": [
    "a = [1, 2, 3, 4, 5]\n",
    "(lambda x: x + 1)(5)"
   ]
  },
  {
   "cell_type": "code",
   "execution_count": null,
   "metadata": {},
   "outputs": [],
   "source": [
    "check_n  = []  # 어디 인덱스 들어갔는지. 스택\n",
    "check = [0] * 5  # 현재 방문한곳 1 아니면 0\n",
    "\n",
    "for i in range(5):\n",
    "    if check[i] == 1:\n",
    "        continue\n",
    "    if _end != "
   ]
  },
  {
   "cell_type": "code",
   "execution_count": 3,
   "metadata": {},
   "outputs": [],
   "source": [
    "tickets2 = [['ICN', 'SFO'], ['ICN', 'ATL'], ['SFO', 'ATL'], ['ATL', 'ICN'], ['ATL','SFO']]  # [ICN, ATL, ICN, SFO, ATL, SFO]\n",
    "tickets = sorted(tickets2)\n",
    "\n",
    "tmp = []\n",
    "check = [0] * 5  # 현재 방문한곳 1 아니면 0\n",
    "check_n  = []  # 어디 인덱스 들어갔는지. 스택\n",
    "tmp_check = []\n",
    "t_size = len(tickets)\n",
    "\n",
    "depth\n",
    "_start\n",
    "_end\n",
    "\n",
    "for i in range(t_size):\n",
    "    if check[i] == 1:\n",
    "        continue\n",
    "    if _end"
   ]
  },
  {
   "cell_type": "code",
   "execution_count": 4,
   "metadata": {},
   "outputs": [
    {
     "name": "stdout",
     "output_type": "stream",
     "text": [
      "[['ATL', 'ICN'], ['ATL', 'SFO'], ['ICN', 'ATL'], ['ICN', 'SFO'], ['SFO', 'ATL']]\n"
     ]
    }
   ],
   "source": [
    "tickets2 = [['ICN', 'SFO'], ['ICN', 'ATL'], ['SFO', 'ATL'], ['ATL', 'ICN'], ['ATL','SFO']]  # [ICN, ATL, ICN, SFO, ATL, SFO]\n",
    "tickets = sorted(tickets2)\n",
    "print(tickets)"
   ]
  },
  {
   "cell_type": "code",
   "execution_count": 13,
   "metadata": {},
   "outputs": [
    {
     "name": "stdout",
     "output_type": "stream",
     "text": [
      "['ATL', 'ICN'] [0, 0, 0, 0, 0]\n",
      "['ATL', 'SFO'] [0, 0, 0, 0, 0]\n",
      "['ICN', 'ATL'] [0, 0, 0, 0, 0]\n",
      "['ICN', 'SFO'] [0, 0, 1, 0, 0]\n",
      "['SFO', 'ATL'] [0, 0, 1, 0, 0]\n",
      "['ATL', 'ICN'] [0, 0, 1, 0, 0]\n",
      "['ATL', 'SFO'] [1, 0, 1, 0, 0]\n",
      "['ICN', 'SFO'] [1, 0, 1, 0, 0]\n",
      "['SFO', 'ATL'] [1, 0, 1, 1, 0]\n",
      "['ATL', 'SFO'] [1, 0, 1, 1, 1]\n",
      "['ICN', 'ATL', 'ICN', 'SFO', 'ATL', 'SFO']\n"
     ]
    }
   ],
   "source": [
    "check = [0] * 5  # 현재 방문한곳 1 아니면 0\n",
    "check_n  = []  # 어디 인덱스 들어갔는지. 스택\n",
    "\n",
    "now = 'ICN'\n",
    "answer = [now]\n",
    "\n",
    "while sum(check) != 5:\n",
    "    \n",
    "    for idx, ticket in enumerate(tickets):\n",
    "        if check[idx] == 1:\n",
    "            continue\n",
    "            \n",
    "        print(ticket, check)\n",
    "        if ticket[0] != now:\n",
    "            continue\n",
    "            \n",
    "        check_n.append(idx)\n",
    "        check[idx] = 1\n",
    "        now = ticket[1]\n",
    "        answer.append(ticket[1])\n",
    "            \n",
    "print(answer)"
   ]
  },
  {
   "cell_type": "code",
   "execution_count": 5,
   "metadata": {},
   "outputs": [
    {
     "data": {
      "text/plain": [
       "8"
      ]
     },
     "execution_count": 5,
     "metadata": {},
     "output_type": "execute_result"
    }
   ],
   "source": [
    "a = [1,2,2,1,1,1]\n",
    "sum(a)"
   ]
  },
  {
   "cell_type": "code",
   "execution_count": 20,
   "metadata": {
    "scrolled": true
   },
   "outputs": [
    {
     "ename": "IndexError",
     "evalue": "list index out of range",
     "output_type": "error",
     "traceback": [
      "\u001b[1;31m---------------------------------------------------------------------------\u001b[0m",
      "\u001b[1;31mIndexError\u001b[0m                                Traceback (most recent call last)",
      "\u001b[1;32m<ipython-input-20-ffcc3bebee21>\u001b[0m in \u001b[0;36m<module>\u001b[1;34m\u001b[0m\n\u001b[0;32m     59\u001b[0m     \u001b[1;32mreturn\u001b[0m \u001b[0manswer\u001b[0m\u001b[1;33m\u001b[0m\u001b[1;33m\u001b[0m\u001b[0m\n\u001b[0;32m     60\u001b[0m \u001b[1;33m\u001b[0m\u001b[0m\n\u001b[1;32m---> 61\u001b[1;33m \u001b[0mprint\u001b[0m\u001b[1;33m(\u001b[0m\u001b[0msolution\u001b[0m\u001b[1;33m(\u001b[0m\u001b[0mtickets\u001b[0m\u001b[1;33m)\u001b[0m\u001b[1;33m)\u001b[0m\u001b[1;33m\u001b[0m\u001b[1;33m\u001b[0m\u001b[0m\n\u001b[0m",
      "\u001b[1;32m<ipython-input-20-ffcc3bebee21>\u001b[0m in \u001b[0;36msolution\u001b[1;34m(tickets)\u001b[0m\n\u001b[0;32m     53\u001b[0m         \u001b[0mcheck\u001b[0m\u001b[1;33m[\u001b[0m\u001b[0mi\u001b[0m\u001b[1;33m]\u001b[0m \u001b[1;33m=\u001b[0m \u001b[1;36m0\u001b[0m\u001b[1;33m\u001b[0m\u001b[1;33m\u001b[0m\u001b[0m\n\u001b[0;32m     54\u001b[0m \u001b[1;33m\u001b[0m\u001b[0m\n\u001b[1;32m---> 55\u001b[1;33m     \u001b[0manswer\u001b[0m\u001b[1;33m.\u001b[0m\u001b[0mappend\u001b[0m\u001b[1;33m(\u001b[0m\u001b[0mtickets\u001b[0m\u001b[1;33m[\u001b[0m\u001b[0mtmp_check\u001b[0m\u001b[1;33m[\u001b[0m\u001b[1;36m0\u001b[0m\u001b[1;33m]\u001b[0m\u001b[1;33m]\u001b[0m\u001b[1;33m[\u001b[0m\u001b[1;36m0\u001b[0m\u001b[1;33m]\u001b[0m\u001b[1;33m)\u001b[0m\u001b[1;33m\u001b[0m\u001b[1;33m\u001b[0m\u001b[0m\n\u001b[0m\u001b[0;32m     56\u001b[0m     \u001b[1;32mfor\u001b[0m \u001b[0mi\u001b[0m \u001b[1;32min\u001b[0m \u001b[0mrange\u001b[0m\u001b[1;33m(\u001b[0m\u001b[0mt_size\u001b[0m\u001b[1;33m)\u001b[0m\u001b[1;33m:\u001b[0m\u001b[1;33m\u001b[0m\u001b[1;33m\u001b[0m\u001b[0m\n\u001b[0;32m     57\u001b[0m         \u001b[0manswer\u001b[0m\u001b[1;33m.\u001b[0m\u001b[0mappend\u001b[0m\u001b[1;33m(\u001b[0m\u001b[0mtickets\u001b[0m\u001b[1;33m[\u001b[0m\u001b[0mtemp_check\u001b[0m\u001b[1;33m[\u001b[0m\u001b[1;36m0\u001b[0m\u001b[1;33m]\u001b[0m\u001b[1;33m]\u001b[0m\u001b[1;33m[\u001b[0m\u001b[1;36m1\u001b[0m\u001b[1;33m]\u001b[0m\u001b[1;33m)\u001b[0m\u001b[1;33m\u001b[0m\u001b[1;33m\u001b[0m\u001b[0m\n",
      "\u001b[1;31mIndexError\u001b[0m: list index out of range"
     ]
    }
   ],
   "source": [
    "tmp = tickets.copy()\n",
    "t_size = len(tickets)\n",
    "check = [0] * 5  # 현재 방문한곳 1 아니면 0\n",
    "check_n  = []  # 어디 인덱스 들어갔는지. 스택\n",
    "tmp_check = []\n",
    "fastout = False\n",
    "\n",
    "def dfs(depth, _start, _end):\n",
    "    fastout = False\n",
    "    if len(check_n) == t_size:\n",
    "        tmp_check = check_n\n",
    "        fastout = True\n",
    "        return\n",
    "    \n",
    "    for i in range(t_size):\n",
    "        if check[i] == 1:\n",
    "            continue\n",
    "        if _end != tmp[i][0]:\n",
    "            continue\n",
    "            \n",
    "        check[i] = 1\n",
    "        check_n.append(i)\n",
    "        \n",
    "        dfs(depth + 1, tmp[i][0], tmp[i][1])\n",
    "        \n",
    "        if fastout == True:\n",
    "            return\n",
    "        \n",
    "        check[i] = 0\n",
    "        check_n.pop()\n",
    "        \n",
    "def solution(tickets):\n",
    "    answer = []\n",
    "    tmp = sorted(tickets).copy()\n",
    "    t_size = len(tickets)\n",
    "    check = [0] * 5  # 현재 방문한곳 1 아니면 0\n",
    "    check_n  = []  # 어디 인덱스 들어갔는지. 스택\n",
    "    tmp_check = []\n",
    "    fastout = False\n",
    "    \n",
    "    for i in range(t_size):\n",
    "        \n",
    "        if tickets[i][0] != 'ICN':\n",
    "            continue\n",
    "        check_n.append(i)\n",
    "        check[i] = 1\n",
    "        \n",
    "        dfs(0, tickets[i][0], tickets[i][1])\n",
    "        \n",
    "        if fastout == True:\n",
    "            break\n",
    "        check_n.pop()\n",
    "        check[i] = 0\n",
    "        \n",
    "    answer.append(tickets[tmp_check[0]][0])\n",
    "    for i in range(t_size):\n",
    "        answer.append(tickets[temp_check[0]][1])\n",
    "        \n",
    "    return answer\n",
    "\n",
    "print(solution(tickets))"
   ]
  },
  {
   "cell_type": "code",
   "execution_count": null,
   "metadata": {},
   "outputs": [],
   "source": [
    "t_size = len(tickets)\n",
    "check_n  = []\n",
    "\n",
    "def dfs(depth, _start, _end):\n",
    "    fastout = False\n",
    "    if len(check_n) == t_size:\n",
    "        tmp_check = check_n\n",
    "        fastout = True\n",
    "        return\n",
    "    \n",
    "    for i in range(t_size):\n",
    "        if check[i] == 1:\n",
    "            continue\n",
    "        if _end != tmp[i][0]:\n",
    "            continue\n",
    "            \n",
    "        check[i] = 1\n",
    "        check_n.append(i)\n",
    "        \n",
    "        dfs(depth + 1, tmp[i][0], tmp[i][1])\n",
    "        \n",
    "        if fastout == True:\n",
    "            return\n",
    "        \n",
    "        check[i] = 0\n",
    "        check_n.pop()"
   ]
  },
  {
   "cell_type": "code",
   "execution_count": null,
   "metadata": {},
   "outputs": [],
   "source": []
  },
  {
   "cell_type": "code",
   "execution_count": null,
   "metadata": {},
   "outputs": [],
   "source": []
  },
  {
   "cell_type": "code",
   "execution_count": null,
   "metadata": {},
   "outputs": [],
   "source": []
  },
  {
   "cell_type": "code",
   "execution_count": null,
   "metadata": {},
   "outputs": [],
   "source": []
  },
  {
   "cell_type": "code",
   "execution_count": null,
   "metadata": {},
   "outputs": [],
   "source": []
  },
  {
   "cell_type": "code",
   "execution_count": null,
   "metadata": {},
   "outputs": [],
   "source": []
  },
  {
   "cell_type": "code",
   "execution_count": null,
   "metadata": {},
   "outputs": [],
   "source": []
  },
  {
   "cell_type": "code",
   "execution_count": null,
   "metadata": {},
   "outputs": [],
   "source": []
  },
  {
   "cell_type": "code",
   "execution_count": null,
   "metadata": {},
   "outputs": [],
   "source": []
  },
  {
   "cell_type": "code",
   "execution_count": null,
   "metadata": {},
   "outputs": [],
   "source": []
  },
  {
   "cell_type": "code",
   "execution_count": null,
   "metadata": {},
   "outputs": [],
   "source": []
  },
  {
   "cell_type": "code",
   "execution_count": null,
   "metadata": {},
   "outputs": [],
   "source": []
  },
  {
   "cell_type": "code",
   "execution_count": 141,
   "metadata": {},
   "outputs": [
    {
     "name": "stdout",
     "output_type": "stream",
     "text": [
      "v: [1, 2], find: [1, 2], tmp: []\n",
      "\n",
      "2번 도착!\n",
      "[0, 1, 0, 0, 0, 0] \n",
      "\n",
      "\n",
      "v: [1, 2], find: [1, 3], tmp: []\n",
      "v: [1, 3], find: [1, 3], tmp: [2]\n",
      "\n",
      "3번 도착!\n",
      "[0, 1, 1, 0, 0, 0] \n",
      "\n",
      "\n",
      "v: [1, 2], find: [1, 4], tmp: []\n",
      "v: [1, 3], find: [1, 4], tmp: [2]\n",
      "v: [2, 4], find: [1, 4], tmp: [2, 3]\n",
      "v: [2, 3], find: [1, 4], tmp: [2, 3]\n",
      "v: [3, 6], find: [1, 4], tmp: [2, 3]\n",
      "v: [3, 4], find: [1, 4], tmp: [2, 3]\n",
      "v: [2, 5], find: [1, 4], tmp: [2, 3]\n",
      "v: [1, 2], find: [2, 4], tmp: []\n",
      "v: [1, 2], find: [3, 4], tmp: []\n",
      "v: [1, 3], find: [2, 4], tmp: []\n",
      "v: [1, 3], find: [3, 4], tmp: []\n",
      "v: [2, 4], find: [2, 4], tmp: []\n",
      "\n",
      "4번 도착!\n",
      "[0, 1, 1, 2, 0, 0] \n",
      "\n",
      "\n",
      "v: [1, 2], find: [1, 5], tmp: []\n",
      "v: [1, 3], find: [1, 5], tmp: [2]\n",
      "v: [2, 4], find: [1, 5], tmp: [2, 3]\n",
      "v: [2, 3], find: [1, 5], tmp: [2, 3]\n",
      "v: [3, 6], find: [1, 5], tmp: [2, 3]\n",
      "v: [3, 4], find: [1, 5], tmp: [2, 3]\n",
      "v: [2, 5], find: [1, 5], tmp: [2, 3]\n",
      "v: [1, 2], find: [2, 5], tmp: []\n",
      "v: [1, 2], find: [3, 5], tmp: []\n",
      "v: [1, 3], find: [2, 5], tmp: []\n",
      "v: [1, 3], find: [3, 5], tmp: []\n",
      "v: [2, 4], find: [2, 5], tmp: []\n",
      "v: [2, 4], find: [3, 5], tmp: [4]\n",
      "v: [2, 3], find: [2, 5], tmp: [4]\n",
      "v: [2, 3], find: [3, 5], tmp: [4, 3]\n",
      "v: [3, 6], find: [2, 5], tmp: [4, 3]\n",
      "v: [3, 6], find: [3, 5], tmp: [4, 3]\n",
      "v: [3, 4], find: [2, 5], tmp: [4, 3, 6]\n",
      "v: [3, 4], find: [3, 5], tmp: [4, 3, 6]\n",
      "v: [2, 5], find: [2, 5], tmp: [4, 3, 6]\n",
      "\n",
      "5번 도착!\n",
      "[0, 1, 1, 2, 2, 0] \n",
      "\n",
      "\n",
      "v: [1, 2], find: [1, 6], tmp: []\n",
      "v: [1, 3], find: [1, 6], tmp: [2]\n",
      "v: [2, 4], find: [1, 6], tmp: [2, 3]\n",
      "v: [2, 3], find: [1, 6], tmp: [2, 3]\n",
      "v: [3, 6], find: [1, 6], tmp: [2, 3]\n",
      "v: [3, 4], find: [1, 6], tmp: [2, 3]\n",
      "v: [2, 5], find: [1, 6], tmp: [2, 3]\n",
      "v: [1, 2], find: [2, 6], tmp: []\n",
      "v: [1, 2], find: [3, 6], tmp: []\n",
      "v: [1, 3], find: [2, 6], tmp: []\n",
      "v: [1, 3], find: [3, 6], tmp: []\n",
      "v: [2, 4], find: [2, 6], tmp: []\n",
      "v: [2, 4], find: [3, 6], tmp: [4]\n",
      "v: [2, 3], find: [2, 6], tmp: [4]\n",
      "v: [2, 3], find: [3, 6], tmp: [4, 3]\n",
      "v: [3, 6], find: [2, 6], tmp: [4, 3]\n",
      "v: [3, 6], find: [3, 6], tmp: [4, 3]\n",
      "\n",
      "6번 도착!\n",
      "[0, 1, 1, 2, 2, 2] \n",
      "\n",
      "\n",
      "3\n"
     ]
    }
   ],
   "source": [
    "n = 6; vertex = [[3, 6], [4, 3], [3, 2], [1, 3], [1, 2], [2, 4], [5, 2]]\n",
    "\n",
    "def solution(n, vertex):\n",
    "    \n",
    "    dists = [0]*n\n",
    "    \n",
    "    vertex.sort()\n",
    "    for v in vertex:\n",
    "        if v[0] > v[1]:\n",
    "            v[0], v[1] = v[1], v[0]\n",
    "    \n",
    "    for destination in range(2, n+1):\n",
    "        now = [1]\n",
    "        dist = 1\n",
    "        fastbreak = False  # 2중 for문 break용\n",
    "        while dists[destination-1] == 0:  # 거리 찾기 전까지 계속\n",
    "            tmp = []  # tmp 초기화\n",
    "\n",
    "            for v in vertex:\n",
    "                for n in now:\n",
    "                    print(f'v: {v}, find: {[n, destination]}, tmp: {tmp}')\n",
    "\n",
    "                    if v[0] == n:\n",
    "                        if v[1] != destination:  # 중간 경유지일 경우\n",
    "                            if v[1] not in tmp:\n",
    "                                tmp.append(v[1])\n",
    "\n",
    "                        else:  # 목적지 찾았으면 2중 for문 break\n",
    "                            dists[destination-1] = dist\n",
    "                            print(f'\\n{destination}번 도착!')\n",
    "                            print(dists, '\\n\\n')\n",
    "                            fastbreak = True\n",
    "                            break        \n",
    "                if fastbreak == True:\n",
    "                    break\n",
    "\n",
    "            dist += 1\n",
    "            now = tmp\n",
    "    \n",
    "    return dists.count(max(dists))\n",
    "\n",
    "print(solution(n, vertex))"
   ]
  },
  {
   "cell_type": "code",
   "execution_count": null,
   "metadata": {},
   "outputs": [],
   "source": []
  },
  {
   "cell_type": "code",
   "execution_count": null,
   "metadata": {},
   "outputs": [],
   "source": []
  },
  {
   "cell_type": "code",
   "execution_count": null,
   "metadata": {},
   "outputs": [],
   "source": []
  },
  {
   "cell_type": "code",
   "execution_count": null,
   "metadata": {},
   "outputs": [],
   "source": []
  },
  {
   "cell_type": "code",
   "execution_count": null,
   "metadata": {},
   "outputs": [],
   "source": []
  },
  {
   "cell_type": "code",
   "execution_count": null,
   "metadata": {},
   "outputs": [],
   "source": []
  },
  {
   "cell_type": "code",
   "execution_count": null,
   "metadata": {},
   "outputs": [],
   "source": []
  },
  {
   "cell_type": "code",
   "execution_count": null,
   "metadata": {},
   "outputs": [],
   "source": []
  },
  {
   "cell_type": "code",
   "execution_count": 217,
   "metadata": {},
   "outputs": [
    {
     "name": "stdout",
     "output_type": "stream",
     "text": [
      "dist: 0, dists: [0, 1, 1, 0, 0, 0], now: [1], tmp: [3, 2]\n",
      "dist: 1, dists: [0, 1, 1, 2, 2, 2], now: [3, 2], tmp: [6, 4, 5]\n",
      "3\n"
     ]
    }
   ],
   "source": [
    "n = 6; vertex = [[3, 6], [4, 3], [3, 2], [1, 3], [1, 2], [2, 4], [5, 2]]\n",
    "\n",
    "def solution(n, vertex):\n",
    "    \n",
    "    check = [1] + [0] * (n-1)  # 거리 다 잰 노드\n",
    "    dists = [0] * n  # 1로부터의 거리\n",
    "    now = [1]  # 현위치 노드\n",
    "    dist = 1  # tmp와 1노드 사이 거리\n",
    "\n",
    "    while dists.count(0) != 1:  # 1번 노드를 제외한 나머지 노드들의 거리를 다 찾을때 까지\n",
    "        tmp = []  # 현 위치와 이어져있는 노드\n",
    "        \n",
    "        for v in vertex:\n",
    "            for n in now:\n",
    "                if n in v:  # now가 vertex안에 들어있다면\n",
    "                    if v[v.index(n)-1] not in tmp and dists[(v[v.index(n)-1])-1] == 0 and v[v.index(n)-1] != 1:\n",
    "                        tmp.append(v[v.index(n)-1])  # 이어진 노드 tmp에 추가\n",
    "\n",
    "            for t in tmp:\n",
    "                if dists[t-1] == 0 and t != 1:  # 해당 node의 dist가 비어있다면 할당\n",
    "                    dists[t-1] = dist\n",
    "\n",
    "        print(f'dist: {dist-1}, dists: {dists}, now: {now}, tmp: {tmp}')\n",
    "\n",
    "        now = tmp\n",
    "        dist += 1\n",
    "\n",
    "    return dists.count(max(dists))\n",
    "\n",
    "print(solution(n, vertex))"
   ]
  },
  {
   "cell_type": "code",
   "execution_count": null,
   "metadata": {},
   "outputs": [],
   "source": []
  },
  {
   "cell_type": "code",
   "execution_count": null,
   "metadata": {},
   "outputs": [],
   "source": []
  },
  {
   "cell_type": "code",
   "execution_count": null,
   "metadata": {},
   "outputs": [],
   "source": []
  },
  {
   "cell_type": "code",
   "execution_count": null,
   "metadata": {},
   "outputs": [],
   "source": []
  },
  {
   "cell_type": "code",
   "execution_count": null,
   "metadata": {},
   "outputs": [],
   "source": []
  },
  {
   "cell_type": "code",
   "execution_count": null,
   "metadata": {},
   "outputs": [],
   "source": []
  },
  {
   "cell_type": "code",
   "execution_count": null,
   "metadata": {},
   "outputs": [],
   "source": []
  },
  {
   "cell_type": "code",
   "execution_count": null,
   "metadata": {},
   "outputs": [],
   "source": []
  },
  {
   "cell_type": "code",
   "execution_count": null,
   "metadata": {},
   "outputs": [],
   "source": []
  },
  {
   "cell_type": "code",
   "execution_count": null,
   "metadata": {},
   "outputs": [],
   "source": []
  },
  {
   "cell_type": "code",
   "execution_count": 204,
   "metadata": {},
   "outputs": [
    {
     "name": "stdout",
     "output_type": "stream",
     "text": [
      "[[], [3, 2], [3, 1, 4, 5], [6, 4, 2, 1], [3, 2], [2], [3]]\n",
      "v: 1, q: deque([[3, 1], [2, 1]])\n",
      "visited: [-1, 0, -1, -1, -1, -1, -1]\n",
      "\n",
      "v: 3, q: deque([[2, 1], [6, 2], [4, 2], [2, 2], [1, 2]])\n",
      "visited: [-1, 0, -1, 1, -1, -1, -1]\n",
      "\n",
      "v: 2, q: deque([[6, 2], [4, 2], [2, 2], [1, 2], [3, 2], [1, 2], [4, 2], [5, 2]])\n",
      "visited: [-1, 0, 1, 1, -1, -1, -1]\n",
      "\n",
      "v: 6, q: deque([[4, 2], [2, 2], [1, 2], [3, 2], [1, 2], [4, 2], [5, 2], [3, 3]])\n",
      "visited: [-1, 0, 1, 1, -1, -1, 2]\n",
      "\n",
      "v: 4, q: deque([[2, 2], [1, 2], [3, 2], [1, 2], [4, 2], [5, 2], [3, 3], [3, 3], [2, 3]])\n",
      "visited: [-1, 0, 1, 1, 2, -1, 2]\n",
      "\n",
      "v: 2, q: deque([[1, 2], [3, 2], [1, 2], [4, 2], [5, 2], [3, 3], [3, 3], [2, 3]])\n",
      "visited: [-1, 0, 1, 1, 2, -1, 2]\n",
      "\n",
      "v: 1, q: deque([[3, 2], [1, 2], [4, 2], [5, 2], [3, 3], [3, 3], [2, 3]])\n",
      "visited: [-1, 0, 1, 1, 2, -1, 2]\n",
      "\n",
      "v: 3, q: deque([[1, 2], [4, 2], [5, 2], [3, 3], [3, 3], [2, 3]])\n",
      "visited: [-1, 0, 1, 1, 2, -1, 2]\n",
      "\n",
      "v: 1, q: deque([[4, 2], [5, 2], [3, 3], [3, 3], [2, 3]])\n",
      "visited: [-1, 0, 1, 1, 2, -1, 2]\n",
      "\n",
      "v: 4, q: deque([[5, 2], [3, 3], [3, 3], [2, 3]])\n",
      "visited: [-1, 0, 1, 1, 2, -1, 2]\n",
      "\n",
      "v: 5, q: deque([[3, 3], [3, 3], [2, 3], [2, 3]])\n",
      "visited: [-1, 0, 1, 1, 2, 2, 2]\n",
      "\n",
      "v: 3, q: deque([[3, 3], [2, 3], [2, 3]])\n",
      "visited: [-1, 0, 1, 1, 2, 2, 2]\n",
      "\n",
      "v: 3, q: deque([[2, 3], [2, 3]])\n",
      "visited: [-1, 0, 1, 1, 2, 2, 2]\n",
      "\n",
      "v: 2, q: deque([[2, 3]])\n",
      "visited: [-1, 0, 1, 1, 2, 2, 2]\n",
      "\n",
      "v: 2, q: deque([])\n",
      "visited: [-1, 0, 1, 1, 2, 2, 2]\n",
      "\n",
      "[-1, 0, 1, 1, 2, 2, 2]\n",
      "3\n"
     ]
    }
   ],
   "source": [
    "n = 6; vertex = [[3, 6], [4, 3], [3, 2], [1, 3], [1, 2], [2, 4], [5, 2]]\n",
    "\n",
    "from collections import deque\n",
    "\n",
    "def bfs(v, visited, adj):\n",
    "    count = 0\n",
    "    q = deque([[v, count]])\n",
    "    while q:\n",
    "        value = q.popleft()\n",
    "        v, count = value  # v는 현재 노드, count는 거리\n",
    "        if visited[v] == -1:  # 방문을 아직 안했으면\n",
    "            visited[v] = count  # 거리표시\n",
    "            count += 1\n",
    "            for e in adj[v]:  # 현재노드와 연결된 노드\n",
    "                q.append([e, count])\n",
    "        print(f'v: {v}, q: {q}')\n",
    "        print(f'visited: {visited}\\n')\n",
    "\n",
    "def solution(n, edge):\n",
    "    answer = 0\n",
    "    visited = [-1] * (n + 1)  # 방문했는지 여부 체크 (안함: -1)\n",
    "    adj = [[] for _ in range(n + 1)]  # 각 노드에 연결된 노드들 목록\n",
    "    for e in edge:\n",
    "        x = e[0]\n",
    "        y = e[1]\n",
    "        adj[x].append(y)\n",
    "        adj[y].append(x)\n",
    "    print(adj)\n",
    "    \n",
    "    bfs(1, visited, adj)\n",
    "    print(visited)\n",
    "    for value in visited:\n",
    "        if value == max(visited):\n",
    "            answer += 1\n",
    "            \n",
    "    return answer\n",
    "\n",
    "print(solution(n, vertex))"
   ]
  },
  {
   "cell_type": "code",
   "execution_count": null,
   "metadata": {},
   "outputs": [],
   "source": []
  },
  {
   "cell_type": "code",
   "execution_count": null,
   "metadata": {},
   "outputs": [],
   "source": []
  },
  {
   "cell_type": "code",
   "execution_count": null,
   "metadata": {},
   "outputs": [],
   "source": []
  }
 ],
 "metadata": {
  "kernelspec": {
   "display_name": "Python 3",
   "language": "python",
   "name": "python3"
  },
  "language_info": {
   "codemirror_mode": {
    "name": "ipython",
    "version": 3
   },
   "file_extension": ".py",
   "mimetype": "text/x-python",
   "name": "python",
   "nbconvert_exporter": "python",
   "pygments_lexer": "ipython3",
   "version": "3.8.3"
  }
 },
 "nbformat": 4,
 "nbformat_minor": 4
}
